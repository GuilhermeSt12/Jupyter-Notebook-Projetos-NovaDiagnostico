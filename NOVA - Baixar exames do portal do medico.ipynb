{
 "cells": [
  {
   "cell_type": "code",
   "execution_count": null,
   "id": "375bc510",
   "metadata": {},
   "outputs": [],
   "source": [
    "# NOVA - Baixar exames do portal do medico"
   ]
  },
  {
   "cell_type": "code",
   "execution_count": null,
   "id": "cae6685f",
   "metadata": {},
   "outputs": [],
   "source": [
    "from selenium import webdriver\n",
    "from webdriver_manager.chrome import ChromeDriverManager\n",
    "from selenium.webdriver.chrome.service import Service\n",
    "import time\n",
    "import pdb #ferramenta de depuração interativa\n",
    "#pdb.set_trace() #inicia o depurador\n",
    "\n",
    "servico = Service(ChromeDriverManager().install())\n",
    "\n",
    "navegador = webdriver.Chrome(service=servico)"
   ]
  },
  {
   "cell_type": "code",
   "execution_count": null,
   "id": "6f6e6eea",
   "metadata": {},
   "outputs": [],
   "source": [
    "# Entra no site\n",
    "navegador.get(\"https://medicos.novadiagnostico.com.br:88\")\n",
    "\n",
    "# Preenche as informações de login\n",
    "navegador.find_element('xpath',\n",
    "                       '//*[@id=\"loginUsernameInput\"]').send_keys(\"guilherme\")\n",
    "\n",
    "navegador.find_element('xpath',\n",
    "                       '//*[@id=\"loginPassword\"]').send_keys(\"PACS557!!\")\n",
    "\n",
    "# Faz o login\n",
    "navegador.find_element('xpath',\n",
    "                       '//*[@id=\"login-button\"]/div[2]/div').click()\n",
    "time.sleep(2)"
   ]
  },
  {
   "cell_type": "code",
   "execution_count": null,
   "id": "d165982f",
   "metadata": {},
   "outputs": [],
   "source": [
    "# Seleciona os menus\n",
    "navegador.find_element('xpath',\n",
    "                       '//*[@id=\"sptGeneralDetailsInput\"]').send_keys(\"GUILHERME VINICIUS SILVA SANTOS\")\n",
    "\n",
    "navegador.find_element('xpath',\n",
    "                       '//*[@id=\"sptSearchSubmitBtn\"]').click()\n",
    "\n",
    "time.sleep(2)\n",
    "\n",
    "navegador.find_element('xpath',\n",
    "                       '//*[@id=\"ptRecord_0\"]/td[1]/div/div/a').click()"
   ]
  },
  {
   "cell_type": "code",
   "execution_count": null,
   "id": "93ec5e0d",
   "metadata": {},
   "outputs": [],
   "source": [
    "time.sleep(2)\n",
    "\n",
    "# Faz o download do exame\n",
    "for i in range(50):\n",
    "    time.sleep(3)\n",
    "    navegador.find_element('xpath','//*[@id=\"mainTab-1-SV-saveAnchorSpan\"]').click()\n",
    "    time.sleep(3)\n",
    "    navegador.find_element('xpath','//*[@id=\"mainTab-1-SV-saveStudyOption\"]/div/a').click()\n",
    "    time.sleep(120) #aguarda 2 min"
   ]
  }
 ],
 "metadata": {
  "kernelspec": {
   "display_name": "Python 3 (ipykernel)",
   "language": "python",
   "name": "python3"
  },
  "language_info": {
   "codemirror_mode": {
    "name": "ipython",
    "version": 3
   },
   "file_extension": ".py",
   "mimetype": "text/x-python",
   "name": "python",
   "nbconvert_exporter": "python",
   "pygments_lexer": "ipython3",
   "version": "3.10.9"
  }
 },
 "nbformat": 4,
 "nbformat_minor": 5
}
